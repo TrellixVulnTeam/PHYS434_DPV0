{
 "cells": [
  {
   "cell_type": "markdown",
   "metadata": {
    "collapsed": true
   },
   "source": [
    "# Homework #2"
   ]
  },
  {
   "cell_type": "markdown",
   "metadata": {},
   "source": [
    "## Problem 1) Brain Teaser"
   ]
  },
  {
   "cell_type": "markdown",
   "metadata": {},
   "source": [
    "The probability of rolling snake eyes is 1/36 (1:1) while the probability of rolling sums to 7 is 6/36 = 1/6 (1:6, 2:5, 3:4, 4:3, 5:2, 6:1) so the probability of rolling 7 is greater."
   ]
  },
  {
   "cell_type": "markdown",
   "metadata": {},
   "source": [
    "## Problem 2) Convolution Operator"
   ]
  },
  {
   "cell_type": "markdown",
   "metadata": {},
   "source": [
    "Pa+b(x) = Sum(z)Pa(z)Pb(x-z)\n",
    "\n",
    "### Math and counting\n",
    "### Sum to 0\n",
    "#### x x x x x x x 1 2 3 4 5 6\n",
    "#### 6 5 4 3 2 1\n",
    "0 combinations\n",
    "Pa+b = 0/36 = 0\n",
    "\n",
    "### Sum to 1\n",
    "#### x x x x x x 1 2 3 4 5 6\n",
    "#### 6 5 4 3 2 1\n",
    "0 combinations\n",
    "Pa+b = 0/36 = 0\n",
    "\n",
    "### Sum to 2\n",
    "#### x x x x x 1 2 3 4 5 6\n",
    "#### 6 5 4 3 2 1\n",
    "1 combination\n",
    "Pa+b = 1/36\n",
    "\n",
    "### Sum to 3\n",
    "#### x x x x 1 2 3 4 5 6\n",
    "#### 6 5 4 3 2 1\n",
    "2 combinations\n",
    "Pa+b = 2/36 = 1/18\n",
    "\n",
    "### Sum to 4\n",
    "#### x x x 1 2 3 4 5 6\n",
    "#### 6 5 4 3 2 1\n",
    "3 combinations\n",
    "Pa+b = 3/36 = 1/12\n",
    "\n",
    "And so on...\n",
    "\n",
    "### Numerically"
   ]
  },
  {
   "cell_type": "code",
   "execution_count": 16,
   "metadata": {},
   "outputs": [
    {
     "name": "stdout",
     "output_type": "stream",
     "text": [
      "[0.         0.         0.02777778 0.05555556 0.08333333 0.11111111\n",
      " 0.13888889 0.16666667 0.13888889 0.11111111 0.08333333 0.05555556\n",
      " 0.02777778]\n"
     ]
    }
   ],
   "source": [
    "import numpy as np\n",
    "prob = np.convolve([0, 1/6, 1/6, 1/6, 1/6, 1/6, 1/6], [0, 1/6, 1/6, 1/6, 1/6, 1/6, 1/6])\n",
    "print(prob)"
   ]
  },
  {
   "cell_type": "markdown",
   "metadata": {},
   "source": [
    "In the numerical way of solving this convolution I made all of the dice values probabilities of 1/6 (their respective probabilties for each dice roll and I added a 0 in the beginning for the offset values."
   ]
  },
  {
   "cell_type": "markdown",
   "metadata": {},
   "source": [
    "# Problem 3) Mean and Variance"
   ]
  },
  {
   "cell_type": "code",
   "execution_count": 31,
   "metadata": {},
   "outputs": [
    {
     "name": "stdout",
     "output_type": "stream",
     "text": [
      "7.0\n",
      "5.833333333333334\n"
     ]
    }
   ],
   "source": [
    "weight = [0, 1, 2, 3, 4, 5, 6, 7, 8, 9, 10, 11, 12]\n",
    "mean = np.dot(weight, np.transpose(prob))\n",
    "print(mean)\n",
    "variance = np.dot((weight - mean)**2, np.transpose(prob))\n",
    "print(variance)"
   ]
  },
  {
   "cell_type": "markdown",
   "metadata": {},
   "source": [
    "# Problem 4) Graph"
   ]
  },
  {
   "cell_type": "code",
   "execution_count": 36,
   "metadata": {},
   "outputs": [],
   "source": [
    "import matplotlib.pyplot as plt\n",
    "init = [0, 1/6, 1/6, 1/6, 1/6, 1/6, 1/6]\n",
    "result = [0, 1/6, 1/6, 1/6, 1/6, 1/6, 1/6]\n",
    "poss = list(range(0, 61))\n",
    "for x in range(9):\n",
    "    result = np.convolve(result, init)\n",
    "plt.bar(poss, result)\n",
    "plt.show()"
   ]
  },
  {
   "cell_type": "markdown",
   "metadata": {},
   "source": []
  },
  {
   "cell_type": "markdown",
   "metadata": {},
   "source": [
    "# Problem 5) Sum and Average"
   ]
  },
  {
   "cell_type": "code",
   "execution_count": null,
   "metadata": {},
   "outputs": [],
   "source": []
  }
 ],
 "metadata": {
  "kernelspec": {
   "display_name": "Python 3",
   "language": "python",
   "name": "python3"
  },
  "language_info": {
   "codemirror_mode": {
    "name": "ipython",
    "version": 3
   },
   "file_extension": ".py",
   "mimetype": "text/x-python",
   "name": "python",
   "nbconvert_exporter": "python",
   "pygments_lexer": "ipython3",
   "version": "3.6.6"
  }
 },
 "nbformat": 4,
 "nbformat_minor": 1
}
