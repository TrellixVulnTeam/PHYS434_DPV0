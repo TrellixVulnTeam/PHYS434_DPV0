{
 "cells": [
  {
   "cell_type": "markdown",
   "metadata": {
    "collapsed": true
   },
   "source": [
    "# Homework #2"
   ]
  },
  {
   "cell_type": "markdown",
   "metadata": {},
   "source": [
    "## Problem 1) Brain Teaser"
   ]
  },
  {
   "cell_type": "markdown",
   "metadata": {},
   "source": [
    "The probability of rolling snake eyes is 1/36 (1:1) while the probability of rolling sums to 7 is 6/36 = 1/6 (1:6, 2:5, 3:4, 4:3, 5:2, 6:1) so the probability of rolling 7 is greater."
   ]
  },
  {
   "cell_type": "markdown",
   "metadata": {},
   "source": [
    "## Problem 2) Convolution Operator"
   ]
  },
  {
   "cell_type": "markdown",
   "metadata": {},
   "source": [
    "Pa+b(x) = Sum(z)Pa(z)Pb(x-z)\n",
    "\n",
    "### Math and counting\n",
    "### Sum to 0\n",
    "#### x x x x x x x 1 2 3 4 5 6\n",
    "#### 1 2 3 4 5 6\n",
    "0 combinations\n",
    "\n",
    "### Sum to 1\n",
    "#### x x x x x x 1 2 3 4 5 6\n",
    "#### 1 2 3 4 5 6\n",
    "0 combinations\n",
    "\n",
    "### Sum to 2\n",
    "#### x x x x x 1 2 3 4 5 6\n",
    "#### 1 2 3 4 5 6\n",
    "1 combination\n",
    "\n",
    "### Sum to 3\n",
    "#### x x x x 1 2 3 4 5 6\n",
    "#### 1 2 3 4 5 6\n",
    "2 combinations\n",
    "\n",
    "### Sum to 4\n",
    "#### x x x 1 2 3 4 5 6\n",
    "#### 1 2 3 4 5 6\n",
    "3 combinations\n",
    "\n",
    "And so on...\n",
    "\n",
    "### Numerically"
   ]
  },
  {
   "cell_type": "code",
   "execution_count": 3,
   "metadata": {},
   "outputs": [
    {
     "name": "stdout",
     "output_type": "stream",
     "text": [
      "<module 'numpy' from '/Users/anthonyjoo/Documents/PHYS434/PHYS434/venv/lib/python3.6/site-packages/numpy/__init__.py'>\n"
     ]
    }
   ],
   "source": [
    "import numpy as np\n",
    "np.convolve([0, 1, 2, 3, 4, 5, 6], [0, 1, 2, 3, 4, 5, 6])\n",
    "print(np)"
   ]
  },
  {
   "cell_type": "markdown",
   "metadata": {},
   "source": [
    "# Problem 3) Mean and Variance"
   ]
  },
  {
   "cell_type": "markdown",
   "metadata": {},
   "source": [
    "# Problem 4) Graph"
   ]
  },
  {
   "cell_type": "markdown",
   "metadata": {},
   "source": [
    "# Problem 5) Sum and Average"
   ]
  },
  {
   "cell_type": "code",
   "execution_count": null,
   "metadata": {},
   "outputs": [],
   "source": []
  }
 ],
 "metadata": {
  "kernelspec": {
   "display_name": "Python 3",
   "language": "python",
   "name": "python3"
  },
  "language_info": {
   "codemirror_mode": {
    "name": "ipython",
    "version": 3
   },
   "file_extension": ".py",
   "mimetype": "text/x-python",
   "name": "python",
   "nbconvert_exporter": "python",
   "pygments_lexer": "ipython3",
   "version": "3.6.6"
  }
 },
 "nbformat": 4,
 "nbformat_minor": 1
}
