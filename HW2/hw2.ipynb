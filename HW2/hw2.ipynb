{
 "cells": [
  {
   "cell_type": "markdown",
   "metadata": {
    "collapsed": true
   },
   "source": [
    "# Homework #2"
   ]
  },
  {
   "cell_type": "markdown",
   "metadata": {},
   "source": [
    "## Problem 1) Brain Teaser"
   ]
  },
  {
   "cell_type": "markdown",
   "metadata": {},
   "source": [
    "The probability of rolling snake eyes is 1/36 (1:1) while the probability of rolling sums to 7 is 6/36 = 1/6 (1:6, 2:5, 3:4, 4:3, 5:2, 6:1) so the probability of rolling 7 is greater."
   ]
  },
  {
   "cell_type": "markdown",
   "metadata": {},
   "source": [
    "## Problem 2) Convolution Operator"
   ]
  },
  {
   "cell_type": "markdown",
   "metadata": {},
   "source": [
    "Pa+b(x) = Sum(z)Pa(z)Pb(x-z)\n",
    "\n",
    "### Math and counting\n",
    "### Sum to 0\n",
    "#### x x x x x x x 1 2 3 4 5 6\n",
    "#### 1 2 3 4 5 6\n",
    "0 combinations\n",
    "\n",
    "### Sum to 1\n",
    "#### x x x x x x 1 2 3 4 5 6\n",
    "#### 1 2 3 4 5 6\n",
    "0 combinations\n",
    "\n",
    "### Sum to 2\n",
    "#### x x x x x 1 2 3 4 5 6\n",
    "#### 1 2 3 4 5 6\n",
    "1 combination\n",
    "\n",
    "### Sum to 3\n",
    "#### x x x x 1 2 3 4 5 6\n",
    "#### 1 2 3 4 5 6\n",
    "2 combinations\n",
    "\n",
    "### Sum to 4\n",
    "#### x x x 1 2 3 4 5 6\n",
    "#### 1 2 3 4 5 6\n",
    "3 combinations\n",
    "\n",
    "And so on...\n",
    "\n",
    "### Numerically"
   ]
  },
  {
   "cell_type": "code",
   "execution_count": 16,
   "metadata": {},
   "outputs": [
    {
     "name": "stdout",
     "output_type": "stream",
     "text": [
      "[ 0  0  0  0  1  4 10 20 35 56 70 76 73 60 36]\n"
     ]
    }
   ],
   "source": [
    "import numpy as np\n",
    "x = np.convolve([0, 0, 1, 2, 3, 4, 5, 6], [0, 0, 1, 2, 3, 4, 5, 6])\n",
    "print(x)"
   ]
  },
  {
   "cell_type": "markdown",
   "metadata": {},
   "source": [
    "# Problem 3) Mean and Variance"
   ]
  },
  {
   "cell_type": "markdown",
   "metadata": {},
   "source": [
    "# Problem 4) Graph"
   ]
  },
  {
   "cell_type": "markdown",
   "metadata": {},
   "source": [
    "# Problem 5) Sum and Average"
   ]
  },
  {
   "cell_type": "code",
   "execution_count": null,
   "metadata": {},
   "outputs": [],
   "source": []
  }
 ],
 "metadata": {
  "kernelspec": {
   "display_name": "Python 2",
   "language": "python",
   "name": "python2"
  },
  "language_info": {
   "codemirror_mode": {
    "name": "ipython",
    "version": 2
   },
   "file_extension": ".py",
   "mimetype": "text/x-python",
   "name": "python",
   "nbconvert_exporter": "python",
   "pygments_lexer": "ipython2",
   "version": "2.7.6"
  }
 },
 "nbformat": 4,
 "nbformat_minor": 0
}
