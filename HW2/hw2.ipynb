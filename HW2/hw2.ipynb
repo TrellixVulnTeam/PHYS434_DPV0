{
 "cells": [
  {
   "cell_type": "markdown",
   "metadata": {
    "collapsed": true
   },
   "source": [
    "# Homework #2"
   ]
  },
  {
   "cell_type": "markdown",
   "metadata": {},
   "source": [
    "## Problem 1) Brain Teaser"
   ]
  },
  {
   "cell_type": "markdown",
   "metadata": {},
   "source": [
    "The probability of rolling snake eyes is 1/36 (1:1) while the probability of rolling sums to 7 is 6/36 = 1/6 (1:6, 2:5, 3:4, 4:3, 5:2, 6:1) so the probability of rolling 7 is greater."
   ]
  },
  {
   "cell_type": "markdown",
   "metadata": {},
   "source": [
    "## Problem 2) Convolution Operator"
   ]
  },
  {
   "cell_type": "markdown",
   "metadata": {},
   "source": [
    "Pa+b(x) = Sum(z)Pa(z)Pb(x-z)\n",
    "\n",
    "### Math and counting\n",
    "### Sum to 0\n",
    "#### x x x x x x x 1 2 3 4 5 6\n",
    "#### 6 5 4 3 2 1\n",
    "0 combinations\n",
    "Pa+b = 0/36 = 0\n",
    "b = 8 a = -1\n",
    "\n",
    "### Sum to 1\n",
    "#### x x x x x x 1 2 3 4 5 6\n",
    "#### 6 5 4 3 2 1\n",
    "0 combinations\n",
    "Pa+b = 0/36 = 0\n",
    "b = 7, a = 0\n",
    "\n",
    "### Sum to 2\n",
    "#### x x x x x 1 2 3 4 5 6\n",
    "#### 6 5 4 3 2 1\n",
    "1 combination\n",
    "Pa+b = 1/36\n",
    "b = 6, a = 1\n",
    "\n",
    "### Sum to 3\n",
    "#### x x x x 1 2 3 4 5 6\n",
    "#### 6 5 4 3 2 1\n",
    "2 combinations\n",
    "Pa+b = 2/36 = 1/18\n",
    "b = 5, a = 2\n",
    "\n",
    "### Sum to 4\n",
    "#### x x x 1 2 3 4 5 6\n",
    "#### 6 5 4 3 2 1\n",
    "3 combinations\n",
    "Pa+b = 3/36 = 1/12\n",
    "b = 4, a = 3\n",
    "\n",
    "And so on...\n",
    "\n",
    "### Numerically"
   ]
  },
  {
   "cell_type": "code",
   "execution_count": 75,
   "metadata": {},
   "outputs": [
    {
     "name": "stdout",
     "output_type": "stream",
     "text": [
      "[0.         0.         0.02777778 0.05555556 0.08333333 0.11111111\n 0.13888889 0.16666667 0.13888889 0.11111111 0.08333333 0.05555556\n 0.02777778]\n"
     ]
    }
   ],
   "source": [
    "import numpy as np\n",
    "prob = np.convolve([0, 1/6, 1/6, 1/6, 1/6, 1/6, 1/6], [0, 1/6, 1/6, 1/6, 1/6, 1/6, 1/6])\n",
    "print(prob)"
   ]
  },
  {
   "cell_type": "markdown",
   "metadata": {},
   "source": [
    "In the numerical way of solving this convolution I made all of the dice values probabilities of 1/6 (their respective probabilties for each dice roll and I added a 0 in the beginning for the offset values."
   ]
  },
  {
   "cell_type": "markdown",
   "metadata": {},
   "source": [
    "# Problem 3) Mean and Variance"
   ]
  },
  {
   "cell_type": "code",
   "execution_count": 77,
   "metadata": {},
   "outputs": [
    {
     "name": "stdout",
     "output_type": "stream",
     "text": [
      "Mean:  7.0\nVariance:  5.833333333333334\nSTD:  2.41522945769824\n"
     ]
    }
   ],
   "source": [
    "weight = [0, 1, 2, 3, 4, 5, 6, 7, 8, 9, 10, 11, 12]\n",
    "mean = np.dot(weight, np.transpose(prob))\n",
    "print('Mean: ', mean)\n",
    "variance = np.dot((weight - mean)**2, np.transpose(prob))\n",
    "print('Variance: ', variance)\n",
    "print('STD: ', np.sqrt(variance))\n",
    "plt.bar(weight, prob)\n",
    "plt.xlabel('Sum')\n",
    "plt.ylabel('Probability')\n",
    "plt.title('Sum Probabilities of 2 Dice')\n",
    "plt.show()"
   ]
  },
  {
   "cell_type": "markdown",
   "metadata": {},
   "source": [
    "# Problem 4) Graph"
   ]
  },
  {
   "cell_type": "code",
   "execution_count": 79,
   "metadata": {},
   "outputs": [
    {
     "name": "stdout",
     "output_type": "stream",
     "text": [
      "Mean:  35.0\nVariance:  29.166666666666654\n"
     ]
    },
    {
     "name": "stdout",
     "output_type": "stream",
     "text": [
      "STD:  5.400617248673216\n"
     ]
    }
   ],
   "source": [
    "import matplotlib.pyplot as plt\n",
    "init = [0, 1/6, 1/6, 1/6, 1/6, 1/6, 1/6]\n",
    "result = [0, 1/6, 1/6, 1/6, 1/6, 1/6, 1/6]\n",
    "poss = list(range(0, 61))\n",
    "for x in range(9):\n",
    "    result = np.convolve(result, init)\n",
    "meanOfTen = np.dot(poss, np.transpose(result))\n",
    "print('Mean: ', meanOfTen)\n",
    "varianceOfTen = np.dot((poss - meanOfTen)**2, np.transpose(result))\n",
    "print('Variance: ', varianceOfTen)\n",
    "plt.bar(poss, result)\n",
    "plt.xlabel('Sum')\n",
    "plt.ylabel('Probability')\n",
    "plt.title('Sum Probabilities of 10 Dice')\n",
    "plt.show()\n",
    "plt.show()\n",
    "print('STD: ', np.sqrt(varianceOfTen))"
   ]
  },
  {
   "cell_type": "markdown",
   "metadata": {},
   "source": [
    "This is a Gaussian distribution most notably for its distinct bell shape where its average sum is also its most common sum (mode) as well as the middle most sum (median). Additionally, approximately 68% of the sum of ten rolls of the dice are within 1 standard deviation (5.4) of the mean which is expected of a Gaussian Distribution. Additionally, according to the Central Limit Theorem, most distributions converge to a Gaussian Distribution when average over enough trials. This is both expected and evident as we increase the number of dice from 2 to 10."
   ]
  },
  {
   "cell_type": "markdown",
   "metadata": {},
   "source": [
    "# Problem 5) Sum and Average"
   ]
  },
  {
   "cell_type": "code",
   "execution_count": 82,
   "metadata": {},
   "outputs": [],
   "source": [
    "init5 = [0, 1/6, 1/6, 1/6, 1/6, 1/6, 1/6]\n",
    "result5 = [0, 1/6, 1/6, 1/6, 1/6, 1/6, 1/6]\n",
    "poss5 = list(range(0, 25))\n",
    "for x in range(3):\n",
    "    result5 = np.convolve(result5, init5)\n",
    "plt.bar(poss5, result5)\n",
    "plt.xlabel('Sum')\n",
    "plt.ylabel('Probability')\n",
    "plt.title('Sum Probabilities of 4 Dice')\n",
    "plt.show()\n",
    "plt.show()\n",
    "init5 = [0, 1/6, 1/6, 1/6, 1/6, 1/6, 1/6]\n",
    "result5 = [0, 1/6, 1/6, 1/6, 1/6, 1/6, 1/6]\n",
    "poss5 = list(range(0, 49))\n",
    "for x in range(7):\n",
    "    result5 = np.convolve(result5, init5)\n",
    "plt.bar(poss5, result5)\n",
    "plt.xlabel('Sum')\n",
    "plt.ylabel('Probability')\n",
    "plt.title('Sum Probabilities of 8 Dice')\n",
    "plt.show()"
   ]
  },
  {
   "cell_type": "markdown",
   "metadata": {},
   "source": [
    "The distribution of the sum probabilities of two dice is originally a Guassian Distribution and is convolved with 2 more dice, then 6 more dice, then 8 more dice in order to illustrate the effect of the sum and average of a Gaussian. As you can see, every time the distribution is convolved with the distribution of more dice the distribution becomes more and more Gaussian thus illustrating the idea that the sum and average of an initially Gaussian distribution is also Guassian. As the Guassian changes as a result of summing and averaging the standard deviation increases. You can see that at 2 dice the standard deviation is 2.4 but at 10 dice the standard deviation is 5.4. This is important because as we integrate a signal over time, a given distance that we take the integral of no longer gives the same sigma value after the sum and average of a distribution. Thus we have to take integral of a longer path in order to find sigma."
   ]
  }
 ],
 "metadata": {
  "kernelspec": {
   "display_name": "Python 2",
   "language": "python",
   "name": "python2"
  },
  "language_info": {
   "codemirror_mode": {
    "name": "ipython",
    "version": 2
   },
   "file_extension": ".py",
   "mimetype": "text/x-python",
   "name": "python",
   "nbconvert_exporter": "python",
   "pygments_lexer": "ipython2",
   "version": "2.7.6"
  }
 },
 "nbformat": 4,
 "nbformat_minor": 0
}
