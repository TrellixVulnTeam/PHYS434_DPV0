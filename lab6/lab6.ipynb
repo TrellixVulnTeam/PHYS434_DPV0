{
 "cells": [
  {
   "cell_type": "markdown",
   "metadata": {
    "collapsed": true
   },
   "source": [
    "# Confidence intervals"
   ]
  },
  {
   "cell_type": "code",
   "execution_count": 2,
   "metadata": {},
   "outputs": [
    {
     "name": "stdout",
     "output_type": "stream",
     "text": [
      "Index(['pt', 'eta', 'phi', 'mass', 'ee2', 'ee3', 'd2', 'angularity', 't1',\n       't2', 't3', 't21', 't32', 'KtDeltaR'],\n      dtype='object')\nIndex(['pt', 'eta', 'phi', 'mass', 'ee2', 'ee3', 'd2', 'angularity', 't1',\n       't2', 't3', 't21', 't32', 'KtDeltaR'],\n      dtype='object')\n100000\n"
     ]
    }
   ],
   "source": [
    "# import library\n",
    "import pickle\n",
    "%matplotlib inline\n",
    "import numpy as np\n",
    "import matplotlib.pyplot as plt\n",
    "from scipy import stats\n",
    "import statistics as st\n",
    "plt.rcParams[\"figure.figsize\"] = (10,10)\n",
    "\n",
    "# open the file of interest, and use pickle loading\n",
    "infile = open (\"lab6/qcd_100000_pt_250_500.pkl\",'rb') # signal dataset\n",
    "qcd = pickle.load(infile)\n",
    "infile = open (\"lab6/higgs_100000_pt_250_500.pkl\",'rb') # background dataset\n",
    "higgs = pickle.load(infile)\n",
    "\n",
    "# list all keys of the files\n",
    "print(qcd.keys())\n",
    "print(higgs.keys())\n",
    "print(len(qcd))"
   ]
  },
  {
   "cell_type": "markdown",
   "metadata": {},
   "source": [
    "## Setup"
   ]
  },
  {
   "cell_type": "code",
   "execution_count": 12,
   "metadata": {},
   "outputs": [
    {
     "name": "stdout",
     "output_type": "stream",
     "text": [
      "100000\n100000\n"
     ]
    },
    {
     "data": {
      "image/png": "[encoded data removed]",
      "text/plain": [
       "<Figure size 432x288 with 1 Axes>"
      ]
     },
     "metadata": {},
     "output_type": "display_data"
    }
   ],
   "source": [
    "mu = 100\n",
    "# print(higgs)\n",
    "size = len(higgs['eta'])\n",
    "print(size)\n",
    "print(len(higgs['pt']))\n",
    "simBG = stats.poisson.rvs(mu, size=size)\n",
    "plt.hist(simBG, 100, density=True)\n",
    "plt.show()"
   ]
  },
  {
   "cell_type": "markdown",
   "metadata": {},
   "source": []
  },
  {
   "cell_type": "markdown",
   "metadata": {},
   "source": [
    "## Problem 1"
   ]
  },
  {
   "cell_type": "code",
   "execution_count": 4,
   "metadata": {},
   "outputs": [
    {
     "name": "stdout",
     "output_type": "stream",
     "text": [
      "2.866515719235352e-07\n154.0\nThe point of 5σ is  154.0\n"
     ]
    }
   ],
   "source": [
    "fiveSig = 1 - stats.norm.cdf(5)\n",
    "print(fiveSig)\n",
    "fiveSigPoint = stats.poisson.ppf(1 - fiveSig, mu)\n",
    "print(fiveSigPoint)\n",
    "print('The point of 5\\u03C3 is ', fiveSigPoint)"
   ]
  },
  {
   "cell_type": "markdown",
   "metadata": {},
   "source": [
    "## Problem 2"
   ]
  },
  {
   "cell_type": "code",
   "execution_count": null,
   "metadata": {},
   "outputs": [],
   "source": [
    "### a)"
   ]
  },
  {
   "cell_type": "code",
   "execution_count": 11,
   "metadata": {},
   "outputs": [
    {
     "name": "stdout",
     "output_type": "stream",
     "text": [
      "190.0\n"
     ]
    },
    {
     "data": {
      "image/png": "[encoded data removed]",
      "text/plain": [
       "<Figure size 432x288 with 1 Axes>"
      ]
     },
     "metadata": {},
     "output_type": "display_data"
    }
   ],
   "source": [
    "eightSig = 1 - stats.norm.cdf(8)\n",
    "sigValue = stats.poisson.ppf(1 - eightSig, mu)\n",
    "print(sigValue)\n",
    "for i in range(0, 100000, 20):\n",
    "    simBG[i] = simBG[i] + sigValue\n",
    "# one way is adding the datasets of new dataset\n",
    "# injected = stats.poisson.rvs(mu, sigValue, size=10000)\n",
    "# what = np.append(simBG, injected)\n",
    "plt.hist(simBG, 100, density=True)\n",
    "plt.show()"
   ]
  },
  {
   "cell_type": "code",
   "execution_count": null,
   "metadata": {},
   "outputs": [],
   "source": [
    "### b)"
   ]
  },
  {
   "cell_type": "markdown",
   "metadata": {},
   "source": [
    "Whether an observed signal is biased or unbiased is a discussion about if yourobserved signal is where you expect it to be knowing the value of your injected signal. If we see that the observed signal is distributed around the injected signal value then we can say it is unbiased, otherwise it is said to be biased. In our example our injected signal of 8 sigma is at 190."
   ]
  },
  {
   "cell_type": "markdown",
   "metadata": {},
   "source": [
    "## Problem 3"
   ]
  },
  {
   "cell_type": "code",
   "execution_count": 5,
   "metadata": {},
   "outputs": [],
   "source": []
  },
  {
   "cell_type": "markdown",
   "metadata": {},
   "source": [
    "## Problem 4"
   ]
  },
  {
   "cell_type": "code",
   "execution_count": 5,
   "metadata": {},
   "outputs": [],
   "source": []
  },
  {
   "cell_type": "code",
   "execution_count": null,
   "metadata": {},
   "outputs": [],
   "source": []
  }
 ],
 "metadata": {
  "kernelspec": {
   "display_name": "Python 2",
   "language": "python",
   "name": "python2"
  },
  "language_info": {
   "codemirror_mode": {
    "name": "ipython",
    "version": 2
   },
   "file_extension": ".py",
   "mimetype": "text/x-python",
   "name": "python",
   "nbconvert_exporter": "python",
   "pygments_lexer": "ipython2",
   "version": "2.7.6"
  }
 },
 "nbformat": 4,
 "nbformat_minor": 0
}
