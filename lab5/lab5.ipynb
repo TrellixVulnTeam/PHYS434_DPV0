{
 "cells": [
  {
   "cell_type": "markdown",
   "metadata": {},
   "source": [
    "# Higgs Classification"
   ]
  },
  {
   "cell_type": "markdown",
   "metadata": {},
   "source": [
    "\tIn this lab we are working with LHC particle physics data that contains 100k jets of information recorded by the Large Hadron Collider (LHC). The LHC is the world's largest and highest-energy particle collider and was created by CERN through international collaboration from 1998 to 2008. This device, which lies 175 meters below the surface of the earth near Geneva and covers 27 kilometers in circumference was created in efforts of testing many different theories of particle physics. The collider is equipped with four crossing points with 7 detectors placed around these points, each designed for certain kinds of research, and this device was most notably employed to discover the Higgs Boson particle.\n",
    "\tThe Higgs Boson was a theoretical elementary particle of the Standard Model of particle physics and came out of neccessity following the theory of Higgs field. This quantum field, 'Higg's field', was the the most popular explanation at the time for what gave particles their mass. However, due to wave-particle duality all quantum fields, according to this theory, have an associated fundamental particle the Higgs Boson. Because Higgs Boson is responsible for the mass of particles it was though that is the Higgs Boson did exist its mass could be predicted based on its effects on the properties of other particles. The Higgs Boson is often called the \"God Particle\" because it is regarded as the final missing piece to the explanation of the Standard Model which helps explain three pivotal phenomenom: electromagetic interactions, strong interactions, and the weak nuclear force.\n",
    "\tThe LHC works essentially by firing two particles at each other at speeds close to the speed of light. In its 27km circumference there are lined nearly 9000 superconducting magnets with accelerating structures to boost the energy of the particle it encounters. The strong magnetic fields created by these magnets are used to direct two particles at opposite directions of each other to speed them up for their eventual collision and the other end of the tunnel. More specialized magnets are used closer to the collision point in order to squeeze the particles closer togther to increase the probability of them colliding. With the tiny sizes of the particle the task of having two particles collide is similar to having two needles collide at nearly the sped of light. Expanding on this, the collision of high energy particles can produce jets of elementary particles which are then sectioned off and analyzed.\n",
    "\tThe idea of proving the Higgs Boson using the LHC was as follows. These scientists were proving the existence of Higgs field and if it was real then after colliding two particles at high speeds then the the higgs fielf should ripple and hopefully shoot off a particle which would then be identified as the Higgs Boson. However, another difficulty with identifying this particle was that the Higgs Boson was calculated to be unstable and disintegrate in a fraction of a second. Thus scientists were tasked with searching for the finger print of the Higgs Boson through decay products it leaves behind.\n",
    "\n",
    "- pt - askdnksad\n",
    "\t* This is\n",
    "- eta\n",
    "- phi\n",
    "- mass\n",
    "- ee2\n",
    "- ee3\n",
    "- d2\n",
    "- angularity\n",
    "- t1\n",
    "- t2\n",
    "- t3\n",
    "- t21\n",
    "- t32\n",
    "- KtDeltaR\n",
    "\n",
    "\n",
    "- what is higgs boson? What does it mean?\n",
    "- how does LHC work?\n",
    "- how do you prove higgs?"
   ]
  },
  {
   "cell_type": "markdown",
   "metadata": {},
   "source": [
    "## 1) Download the datasets (signal & background)"
   ]
  },
  {
   "cell_type": "code",
   "execution_count": 9,
   "metadata": {
    "collapsed": true
   },
   "outputs": [
    {
     "name": "stdout",
     "output_type": "stream",
     "text": [
      "Index(['pt', 'eta', 'phi', 'mass', 'ee2', 'ee3', 'd2', 'angularity', 't1',\n       't2', 't3', 't21', 't32', 'KtDeltaR'],\n      dtype='object')\nIndex(['pt', 'eta', 'phi', 'mass', 'ee2', 'ee3', 'd2', 'angularity', 't1',\n       't2', 't3', 't21', 't32', 'KtDeltaR'],\n      dtype='object')\n100000\n"
     ]
    }
   ],
   "source": [
    "# import library\n",
    "import pickle\n",
    "\n",
    "# open the file of interest, and use pickle loading\n",
    "infile = open (\"lab5/qcd_100000_pt_250_500.pkl\",'rb')\n",
    "qcd = pickle.load(infile)\n",
    "infile = open (\"lab5/higgs_100000_pt_250_500.pkl\",'rb')\n",
    "higgs = pickle.load(infile)\n",
    "\n",
    "# list all keys of the files\n",
    "print(qcd.keys())\n",
    "print(higgs.keys())\n",
    "print(len(qcd))"
   ]
  },
  {
   "cell_type": "markdown",
   "metadata": {},
   "source": [
    "## 2) Explore training data"
   ]
  },
  {
   "cell_type": "markdown",
   "metadata": {},
   "source": []
  },
  {
   "cell_type": "markdown",
   "metadata": {},
   "source": [
    "### a. Do all features provide discrimination power between signal and background?"
   ]
  },
  {
   "cell_type": "code",
   "execution_count": null,
   "metadata": {},
   "outputs": [],
   "source": []
  },
  {
   "cell_type": "markdown",
   "metadata": {},
   "source": [
    "### b. Are there correlations among these features?"
   ]
  },
  {
   "cell_type": "markdown",
   "metadata": {},
   "source": [
    "### c. Compute expected discovery sensitivity by normalizing each sample appropriately."
   ]
  },
  {
   "cell_type": "markdown",
   "metadata": {},
   "source": [
    "### d. Develop a plan to optimize the discovery sensitivity."
   ]
  }
 ],
 "metadata": {
  "kernelspec": {
   "display_name": "Python 2",
   "language": "python",
   "name": "python2"
  },
  "language_info": {
   "codemirror_mode": {
    "name": "ipython",
    "version": 2
   },
   "file_extension": ".py",
   "mimetype": "text/x-python",
   "name": "python",
   "nbconvert_exporter": "python",
   "pygments_lexer": "ipython2",
   "version": "2.7.6"
  }
 },
 "nbformat": 4,
 "nbformat_minor": 0
}
