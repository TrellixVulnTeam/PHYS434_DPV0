{
 "cells": [
  {
   "cell_type": "markdown",
   "metadata": {
    "collapsed": true
   },
   "source": [
    "# Lab 4: Working with 'real' data"
   ]
  },
  {
   "cell_type": "code",
   "execution_count": 1,
   "metadata": {},
   "outputs": [],
   "source": [
    "%matplotlib inline\n",
    "import numpy as np\n",
    "import matplotlib\n",
    "import matplotlib.pyplot as plt\n",
    "import scipy\n",
    "from scipy import stats\n",
    "import h5py\n",
    "import statistics"
   ]
  },
  {
   "cell_type": "code",
   "execution_count": 2,
   "metadata": {},
   "outputs": [],
   "source": [
    "hf = h5py.File('lab4/gammaray_lab4.h5', 'r') # import data\n",
    "hf.keys()\n",
    "data = np.array(hf.get('data'))\n",
    "data[:,0]\n",
    "hf.close() # close file"
   ]
  },
  {
   "cell_type": "markdown",
   "metadata": {},
   "source": [
    "## Problem 1"
   ]
  },
  {
   "cell_type": "markdown",
   "metadata": {},
   "source": [
    "# 1)"
   ]
  },
  {
   "cell_type": "code",
   "execution_count": 52,
   "metadata": {},
   "outputs": [
    {
     "data": {
      "image/png": "[encoded data removed]",
      "text/plain": [
       "<Figure size 432x288 with 1 Axes>"
      ]
     },
     "metadata": {},
     "output_type": "display_data"
    }
   ],
   "source": [
    "# plt.title('Time vs. Earth longitude (every 100000th data point)')\n",
    "# plt.xlabel('Time (gps seconds)')\n",
    "# plt.ylabel('Earth longitude (degrees)')\n",
    "# avgList = []\n",
    "# # dataLen = len(data[0])\n",
    "# # for i in range(len(data) / 360):\n",
    "# shortList = []\n",
    "# count = 0\n",
    "# for i in range(len(data[1])):\n",
    "#     if count == 54000:\n",
    "#         avgList.append(shortList)\n",
    "#         shortList = []\n",
    "#         count = 0\n",
    "#         shortList.append(data[3][i])\n",
    "#     else:\n",
    "#         shortList.append(data[3][i])\n",
    "#         count += 1\n",
    "# # print(avgList[0:3])\n",
    "# # print(*map(statistics.mean, zip(*avgList)))\n",
    "# # avgList = map(statistics.mean, zip(*avgList))\n",
    "# # print(avgList)\n",
    "# # temp = zip(avgList)\n",
    "# # tempList = list(temp)\n",
    "# # temp = zip(*tempList)\n",
    "# # print(list(temp))\n",
    "# # avgList = []\n",
    "# # for i in range(360):\n",
    "# #     avgList.append(statistics.mean(temp[i]))\n",
    "# averages = [sum(col) / float(len(col)) for col in zip(*avgList)]\n",
    "# print(len(averages))\n",
    "# # print(data[1][1700:1705])\n",
    "# index = []\n",
    "# for i in range(54000):\n",
    "#     index.append(data[2][i])\n",
    "# plt.plot(index, averages)\n",
    "\n",
    "index = []\n",
    "for i in range(54000):\n",
    "    index.append(data[2][i])\n",
    "count = 0\n",
    "temp = []\n",
    "# for i in range(len(data[1])):\n",
    "for i in range(54000):\n",
    "    # if count == 54000:\n",
    "    #     plt.plot(index, temp)\n",
    "    #     temp.clear()\n",
    "    #     # temp.append(data[3][i])\n",
    "    #     count = 0\n",
    "    # else:\n",
    "    temp.append(data[3][i])\n",
    "    count += 1\n",
    "plt.plot(index, temp)\n",
    "plt.show()"
   ]
  },
  {
   "cell_type": "code",
   "execution_count": 25,
   "metadata": {},
   "outputs": [],
   "source": []
  }
 ],
 "metadata": {
  "kernelspec": {
   "display_name": "Python 2",
   "language": "python",
   "name": "python2"
  },
  "language_info": {
   "codemirror_mode": {
    "name": "ipython",
    "version": 2
   },
   "file_extension": ".py",
   "mimetype": "text/x-python",
   "name": "python",
   "nbconvert_exporter": "python",
   "pygments_lexer": "ipython2",
   "version": "2.7.6"
  }
 },
 "nbformat": 4,
 "nbformat_minor": 0
}
